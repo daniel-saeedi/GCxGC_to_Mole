{
 "cells": [
  {
   "cell_type": "code",
   "execution_count": 21,
   "metadata": {},
   "outputs": [
    {
     "name": "stdout",
     "output_type": "stream",
     "text": [
      "[(0, {'element': 'C'}), (1, {'element': 'N'}), (2, {'element': 'S'}), (3, {'element': 'N'}), (4, {'element': 'C'}), (5, {'element': 'C'}), (6, {'element': 'C'}), (7, {'element': 'C'}), (8, {'element': 'C'}), (9, {'element': 'C'}), (10, {'element': 'C'}), (11, {'element': 'O'}), (12, {'element': 'O'}), (13, {'element': 'C'}), (14, {'element': 'O'}), (15, {'element': 'O'}), (16, {'element': 'C'})]\n",
      "[(0, 1, {'order': rdkit.Chem.rdchem.BondType.SINGLE}), (0, 14, {'order': rdkit.Chem.rdchem.BondType.DOUBLE}), (0, 15, {'order': rdkit.Chem.rdchem.BondType.SINGLE}), (1, 2, {'order': rdkit.Chem.rdchem.BondType.SINGLE}), (1, 5, {'order': rdkit.Chem.rdchem.BondType.SINGLE}), (2, 3, {'order': rdkit.Chem.rdchem.BondType.SINGLE}), (3, 4, {'order': rdkit.Chem.rdchem.BondType.SINGLE}), (3, 10, {'order': rdkit.Chem.rdchem.BondType.SINGLE}), (4, 5, {'order': rdkit.Chem.rdchem.BondType.SINGLE}), (4, 7, {'order': rdkit.Chem.rdchem.BondType.SINGLE}), (5, 6, {'order': rdkit.Chem.rdchem.BondType.SINGLE}), (7, 8, {'order': rdkit.Chem.rdchem.BondType.DOUBLE}), (8, 9, {'order': rdkit.Chem.rdchem.BondType.SINGLE}), (10, 11, {'order': rdkit.Chem.rdchem.BondType.DOUBLE}), (10, 12, {'order': rdkit.Chem.rdchem.BondType.SINGLE}), (12, 13, {'order': rdkit.Chem.rdchem.BondType.SINGLE}), (15, 16, {'order': rdkit.Chem.rdchem.BondType.SINGLE})]\n"
     ]
    }
   ],
   "source": [
    "from rdkit import Chem\n",
    "import networkx as nx\n",
    "\n",
    "def molecule_to_graph(mol):\n",
    "    # Create an empty graph\n",
    "    G = nx.Graph()\n",
    "    \n",
    "    # Add nodes for each atom in the molecule\n",
    "    for atom in mol.GetAtoms():\n",
    "        G.add_node(atom.GetIdx(), element=atom.GetSymbol())\n",
    "    \n",
    "    # Add edges for each bond in the molecule\n",
    "    for bond in mol.GetBonds():\n",
    "        G.add_edge(bond.GetBeginAtomIdx(), bond.GetEndAtomIdx(), order=bond.GetBondType())\n",
    "    \n",
    "    return G\n",
    "\n",
    "# Example usage\n",
    "smiles = \"C=C[C@@H]1[C@@H](CSCc2ccccc2)N(C(=O)OC)SN1C(=O)OC\" \n",
    "mol = Chem.MolFromSmiles(smiles)\n",
    "graph = molecule_to_graph(mol)\n",
    "\n",
    "print(graph.nodes(data=True))\n",
    "print(graph.edges(data=True))\n"
   ]
  },
  {
   "cell_type": "code",
   "execution_count": 22,
   "metadata": {},
   "outputs": [
    {
     "name": "stdout",
     "output_type": "stream",
     "text": [
      "01011000000011000000111111010000010000100000100000100010000001110100000000101000001010000100000101010000111001001000000010100000010000000111011010100000000110100000001000011000000001100010100100100000001000011110000101001000000010010110000000010100000100001000000110000100101010000010100001010000000110111011101100011101101111001110010010000000000100101100001001000100010001000100001110110100010100000001000000001010000001010100000100111100100111001000001000010110001001001000111100010000101000001101110001100100001001010110000000010101100100000000001011010101011000000101000000000010001000000000101101010001000110001011001000000001000001110001001000100001000000000010000110010000011100000000011010100101000101001010100000000001000000000101000101001001011000001000011011010101101111100100001001011001101110001001010101011000101110000001000010000111010000101000000000101010101100011001011000000000010110001010110000000110010100010110110000001100011011000000000000000100010011000011001001000000010001010010000100000000011010010101001001110111100100000000100101000000001000100001000000001100011000000001010001000000000001000001100000000000000100110010100001110000110110101011010101000010100010011010010000000000000010001101000010100100111000000101000000100100000010100010100001001100001110011000000100011101000010010010010010110110111010000101000010100000000001010000000101001000000000010000000000000000010000001110101010000000000110000000110010000001000100100101000001100011110111000000000011010101100100100110000100000000000100101101000101000001000000111001100000000001001111101001000011000001000000000011000001100001000010100001000000000101010001000100001100000001000110100000011010100000000000100001011000010101001000000001000100000101000011000011100000000001010000000001101010000101010010010000101001010000101001011000000110101100001100010110010000000001000010000000110000011010110000000001000000010011000101000000000000000111000000110101010010001100100000001001001110010000000010100110100010010100010001010010000000000100100110100000000000011011\n"
     ]
    }
   ],
   "source": [
    "from rdkit.Chem import rdFingerprintGenerator\n",
    "\n",
    "fingerprint_gen = rdFingerprintGenerator.GetRDKitFPGenerator()\n",
    "fingerprint = fingerprint_gen.GetFingerprint(mol)\n",
    "\n",
    "print(fingerprint.ToBitString())"
   ]
  },
  {
   "cell_type": "code",
   "execution_count": 23,
   "metadata": {},
   "outputs": [
    {
     "name": "stdout",
     "output_type": "stream",
     "text": [
      "Molecular weight: 260.31499999999994\n",
      "logP: 2.0332\n",
      "Number of hydrogen bond donors: 0\n",
      "Number of hydrogen bond acceptors: 5\n",
      "Topological polar surface area: 59.08\n"
     ]
    }
   ],
   "source": [
    "from rdkit.Chem import Descriptors\n",
    "\n",
    "mol_weight = Descriptors.MolWt(mol)\n",
    "logp = Descriptors.MolLogP(mol)\n",
    "num_h_donors = Descriptors.NumHDonors(mol)\n",
    "num_h_acceptors = Descriptors.NumHAcceptors(mol)\n",
    "tpsa = Descriptors.TPSA(mol)\n",
    "\n",
    "print(f\"Molecular weight: {mol_weight}\")\n",
    "print(f\"logP: {logp}\")\n",
    "print(f\"Number of hydrogen bond donors: {num_h_donors}\")\n",
    "print(f\"Number of hydrogen bond acceptors: {num_h_acceptors}\")\n",
    "print(f\"Topological polar surface area: {tpsa}\")\n"
   ]
  },
  {
   "cell_type": "code",
   "execution_count": 7,
   "metadata": {},
   "outputs": [
    {
     "name": "stdout",
     "output_type": "stream",
     "text": [
      "Contains ethyl group: True\n"
     ]
    }
   ],
   "source": [
    "substructure = Chem.MolFromSmarts(\"CC\")  # Ethyl group\n",
    "mol = Chem.MolFromSmiles(\"CCO\")  # Ethanol\n",
    "contains_substructure = mol.HasSubstructMatch(substructure)\n",
    "\n",
    "print(f\"Contains ethyl group: {contains_substructure}\")\n"
   ]
  },
  {
   "cell_type": "code",
   "execution_count": 35,
   "metadata": {},
   "outputs": [
    {
     "data": {
      "text/plain": [
       "Name                      1,2,5-THIADIAZOLIDINE-2,5-DICARBOXYLIC ACID, 3...\n",
       "R.T. (s)                                                        2200, 0.727\n",
       "Type                                                                Unknown\n",
       "Base Mass                                                            48.984\n",
       "Concentration                                                           NaN\n",
       "Sample Concentration                                                    NaN\n",
       "Match                                                                   NaN\n",
       "Quant Masses                                            BPI(48.984026±5ppm)\n",
       "Quant S/N                                                               5.0\n",
       "Area                                                                28258.0\n",
       "Integration Modified                                                    NaN\n",
       "Quantitation Analyte                                                    NaN\n",
       "1st Dimension Time (s)                                               2200.0\n",
       "2nd Dimension Time (s)                                                0.727\n",
       "Actual Masses                                                BPI(48.984026)\n",
       "Analyte Id                                                              NaN\n",
       "Area %                                                                0.001\n",
       "CAS                                                             112792-87-7\n",
       "Contributor               ORIGINALNO: 2_266006; WILEYID: 404897; Databas...\n",
       "FWHH (s)                                                              0.224\n",
       "Formula                                                        C16H20N2O4S2\n",
       "InChIKey                                                                NaN\n",
       "IntegrationBegin                                             2200.472, 2688\n",
       "IntegrationEnd                                                2201.240, 136\n",
       "Library                                                 WileyRegistry8e-N05\n",
       "LibraryId                                                           50315.0\n",
       "Mass Difference                                                         NaN\n",
       "Non-Saturated Apex (s)                                                  NaN\n",
       "Observed Ion m/z                                                    83.9527\n",
       "Peak Number                                                             1.0\n",
       "Peak S/N                                                               31.0\n",
       "Probability                                                            60.6\n",
       "Similarity                                                            908.0\n",
       "Retention Index                                                         0.0\n",
       "Mass Delta (mDa)                                                        NaN\n",
       "Mass Accuracy (ppm)                                                     NaN\n",
       "Height                                                               1016.0\n",
       "Spectrum                   47.97636:136.01 48.98403:1000.00 83.95274:604.88\n",
       "Name: 0, dtype: object"
      ]
     },
     "execution_count": 35,
     "metadata": {},
     "output_type": "execute_result"
    }
   ],
   "source": [
    "import pandas as pd\n",
    "\n",
    "# Specify the correct encoding when reading the CSV file\n",
    "df = pd.read_csv(\"/usr/scratch/NASA/results/230823_01_Atacama_Soil_300uLDCM_100oC24h_Result.csv\", encoding='latin-1')\n",
    "\n",
    "df.iloc[0]"
   ]
  },
  {
   "cell_type": "code",
   "execution_count": 36,
   "metadata": {},
   "outputs": [
    {
     "name": "stdout",
     "output_type": "stream",
     "text": [
      "C=C[C@@H]1[C@@H](CSCc2ccccc2)N(C(=O)OC)SN1C(=O)OC\n"
     ]
    }
   ],
   "source": [
    "from rdkit import Chem\n",
    "\n",
    "# Example InChI string\n",
    "inchi = 'InChI=1S/C16H20N2O4S2/c1-4-13-14(11-23-10-12-8-6-5-7-9-12)18(16(20)22-3)24-17(13)15(19)21-2/h4-9,13-14H,1,10-11H2,2-3H3/t13-,14-/m1/s1'\n",
    "\n",
    "# Convert InChI to RDKit molecule object\n",
    "mol = Chem.MolFromInchi(inchi)\n",
    "\n",
    "# Convert molecule object to SMILES string\n",
    "smiles = Chem.MolToSmiles(mol)\n",
    "\n",
    "print(smiles)\n"
   ]
  },
  {
   "cell_type": "code",
   "execution_count": null,
   "metadata": {},
   "outputs": [],
   "source": []
  }
 ],
 "metadata": {
  "kernelspec": {
   "display_name": "Python 3",
   "language": "python",
   "name": "python3"
  },
  "language_info": {
   "codemirror_mode": {
    "name": "ipython",
    "version": 3
   },
   "file_extension": ".py",
   "mimetype": "text/x-python",
   "name": "python",
   "nbconvert_exporter": "python",
   "pygments_lexer": "ipython3",
   "version": "3.7.16"
  }
 },
 "nbformat": 4,
 "nbformat_minor": 2
}
